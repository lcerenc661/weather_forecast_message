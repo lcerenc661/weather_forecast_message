{
 "cells": [
  {
   "cell_type": "code",
   "execution_count": 33,
   "metadata": {},
   "outputs": [],
   "source": [
    "##importamos librerias\n",
    "from twilio.rest import Client\n",
    "from twilio_config import TWILIO_ACCOUNT_SID, TWILIO_AUTH_TOKEN, PHONE_NUMBER, API_KEY_WAPI\n",
    "\n",
    "from requests import Request, Session\n",
    "from requests.exceptions import ConnectionError, Timeout, TooManyRedirects\n",
    "\n",
    "import pandas as pd\n",
    "import requests\n",
    "from tqdm import tqdm \n"
   ]
  },
  {
   "attachments": {},
   "cell_type": "markdown",
   "metadata": {},
   "source": [
    "## REQUEST"
   ]
  },
  {
   "cell_type": "code",
   "execution_count": 34,
   "metadata": {},
   "outputs": [],
   "source": [
    "## Construimos el url para hacer nuestra solicitud\n",
    "query = 'Medellin'\n",
    "api_key = API_KEY_WAPI\n",
    "\n",
    "url_clima = \"http://api.weatherapi.com/v1/forecast.json?key=\"+api_key+\"&q=\"+query+\"&days=1&aqi=no&alerts=no\"\n",
    "\n",
    "response = requests.get(url_clima).json()"
   ]
  },
  {
   "cell_type": "code",
   "execution_count": 35,
   "metadata": {},
   "outputs": [
    {
     "data": {
      "text/plain": [
       "dict_keys(['location', 'current', 'forecast'])"
      ]
     },
     "execution_count": 35,
     "metadata": {},
     "output_type": "execute_result"
    }
   ],
   "source": [
    "response.keys()"
   ]
  },
  {
   "cell_type": "code",
   "execution_count": 36,
   "metadata": {},
   "outputs": [
    {
     "data": {
      "text/plain": [
       "dict_keys(['date', 'date_epoch', 'day', 'astro', 'hour'])"
      ]
     },
     "execution_count": 36,
     "metadata": {},
     "output_type": "execute_result"
    }
   ],
   "source": [
    "response['forecast']['forecastday'][0].keys()\n"
   ]
  },
  {
   "cell_type": "code",
   "execution_count": 37,
   "metadata": {},
   "outputs": [
    {
     "data": {
      "text/plain": [
       "1"
      ]
     },
     "execution_count": 37,
     "metadata": {},
     "output_type": "execute_result"
    }
   ],
   "source": [
    "response['forecast']['forecastday'][0]['hour'][1]['time'].split()[0] #Fecha\n",
    "int(response['forecast']['forecastday'][0]['hour'][1]['time'].split()[1].split(\":\")[0]) #hora\n"
   ]
  },
  {
   "cell_type": "code",
   "execution_count": 38,
   "metadata": {},
   "outputs": [
    {
     "data": {
      "text/plain": [
       "'Fog'"
      ]
     },
     "execution_count": 38,
     "metadata": {},
     "output_type": "execute_result"
    }
   ],
   "source": [
    "response['forecast']['forecastday'][0]['hour'][1]['condition']['text']"
   ]
  },
  {
   "cell_type": "code",
   "execution_count": 39,
   "metadata": {},
   "outputs": [
    {
     "data": {
      "text/plain": [
       "65"
      ]
     },
     "execution_count": 39,
     "metadata": {},
     "output_type": "execute_result"
    }
   ],
   "source": [
    "response['forecast']['forecastday'][0]['hour'][0]['temp_c'] #temperatura\n",
    "response['forecast']['forecastday'][0]['hour'][0]['will_it_rain'] #Rain probability\n",
    "response['forecast']['forecastday'][0]['hour'][0]['chance_of_rain'] #Rain probability"
   ]
  },
  {
   "attachments": {},
   "cell_type": "markdown",
   "metadata": {},
   "source": [
    "## DATAFRAME"
   ]
  },
  {
   "cell_type": "code",
   "execution_count": 40,
   "metadata": {},
   "outputs": [],
   "source": [
    "def get_forecast(response, i): \n",
    "    \n",
    "    date = response['forecast']['forecastday'][0]['hour'][i]['time'].split()[0] #Fecha\n",
    "    hour = int(response['forecast']['forecastday'][0]['hour'][i]['time'].split()[1].split(\":\")[0])\n",
    "    condition = response['forecast']['forecastday'][0]['hour'][i]['condition']['text']\n",
    "    temp = response['forecast']['forecastday'][0]['hour'][i]['temp_c']\n",
    "    rain = response['forecast']['forecastday'][0]['hour'][i]['will_it_rain']\n",
    "    prob_rain = response['forecast']['forecastday'][0]['hour'][i]['chance_of_rain']\n",
    "    \n",
    "    return date, hour, condition, temp, rain, prob_rain\n",
    "    \n",
    "    "
   ]
  },
  {
   "cell_type": "code",
   "execution_count": 41,
   "metadata": {},
   "outputs": [
    {
     "name": "stderr",
     "output_type": "stream",
     "text": [
      "100%|\u001b[32m██████████\u001b[0m| 24/24 [00:00<00:00, 53261.00it/s]\n"
     ]
    }
   ],
   "source": [
    "weather_data = []\n",
    "\n",
    "for i in tqdm(range(len(response['forecast']['forecastday'][0]['hour'])),colour = 'green'):\n",
    "    \n",
    "    weather_data.append(get_forecast(response, i)) \n",
    "    \n"
   ]
  },
  {
   "cell_type": "code",
   "execution_count": 42,
   "metadata": {},
   "outputs": [
    {
     "data": {
      "text/plain": [
       "[('2023-06-01', 0, 'Light rain shower', 13.1, 0, 65),\n",
       " ('2023-06-01', 1, 'Fog', 13.3, 0, 0),\n",
       " ('2023-06-01', 2, 'Fog', 13.1, 1, 80),\n",
       " ('2023-06-01', 3, 'Fog', 13.4, 0, 0),\n",
       " ('2023-06-01', 4, 'Light rain', 13.7, 1, 84),\n",
       " ('2023-06-01', 5, 'Fog', 13.5, 1, 71),\n",
       " ('2023-06-01', 6, 'Light rain shower', 13.2, 1, 87),\n",
       " ('2023-06-01', 7, 'Fog', 13.9, 0, 0),\n",
       " ('2023-06-01', 8, 'Cloudy', 15.0, 0, 0),\n",
       " ('2023-06-01', 9, 'Partly cloudy', 15.7, 0, 0),\n",
       " ('2023-06-01', 10, 'Light rain shower', 15.7, 1, 75),\n",
       " ('2023-06-01', 11, 'Partly cloudy', 17.3, 0, 0),\n",
       " ('2023-06-01', 12, 'Light rain shower', 18.6, 1, 78),\n",
       " ('2023-06-01', 13, 'Light rain shower', 18.3, 1, 87),\n",
       " ('2023-06-01', 14, 'Light rain shower', 17.8, 0, 66),\n",
       " ('2023-06-01', 15, 'Mist', 17.3, 0, 0),\n",
       " ('2023-06-01', 16, 'Light rain shower', 17.3, 1, 74),\n",
       " ('2023-06-01', 17, 'Cloudy', 17.0, 0, 0),\n",
       " ('2023-06-01', 18, 'Light rain shower', 15.8, 1, 74),\n",
       " ('2023-06-01', 19, 'Fog', 15.1, 0, 0),\n",
       " ('2023-06-01', 20, 'Light rain shower', 14.5, 0, 70),\n",
       " ('2023-06-01', 21, 'Light rain shower', 14.4, 0, 64),\n",
       " ('2023-06-01', 22, 'Light rain shower', 14.1, 0, 64),\n",
       " ('2023-06-01', 23, 'Light rain shower', 13.8, 1, 80)]"
      ]
     },
     "execution_count": 42,
     "metadata": {},
     "output_type": "execute_result"
    }
   ],
   "source": [
    "weather_data\n"
   ]
  },
  {
   "cell_type": "code",
   "execution_count": 43,
   "metadata": {},
   "outputs": [
    {
     "data": {
      "text/html": [
       "<div>\n",
       "<style scoped>\n",
       "    .dataframe tbody tr th:only-of-type {\n",
       "        vertical-align: middle;\n",
       "    }\n",
       "\n",
       "    .dataframe tbody tr th {\n",
       "        vertical-align: top;\n",
       "    }\n",
       "\n",
       "    .dataframe thead th {\n",
       "        text-align: right;\n",
       "    }\n",
       "</style>\n",
       "<table border=\"1\" class=\"dataframe\">\n",
       "  <thead>\n",
       "    <tr style=\"text-align: right;\">\n",
       "      <th></th>\n",
       "      <th>Date</th>\n",
       "      <th>Hour</th>\n",
       "      <th>Condition</th>\n",
       "      <th>Temp</th>\n",
       "      <th>Rain</th>\n",
       "      <th>\"%\" of Rain</th>\n",
       "    </tr>\n",
       "  </thead>\n",
       "  <tbody>\n",
       "    <tr>\n",
       "      <th>0</th>\n",
       "      <td>2023-06-01</td>\n",
       "      <td>0</td>\n",
       "      <td>Light rain shower</td>\n",
       "      <td>13.1</td>\n",
       "      <td>0</td>\n",
       "      <td>65</td>\n",
       "    </tr>\n",
       "    <tr>\n",
       "      <th>1</th>\n",
       "      <td>2023-06-01</td>\n",
       "      <td>1</td>\n",
       "      <td>Fog</td>\n",
       "      <td>13.3</td>\n",
       "      <td>0</td>\n",
       "      <td>0</td>\n",
       "    </tr>\n",
       "    <tr>\n",
       "      <th>2</th>\n",
       "      <td>2023-06-01</td>\n",
       "      <td>2</td>\n",
       "      <td>Fog</td>\n",
       "      <td>13.1</td>\n",
       "      <td>1</td>\n",
       "      <td>80</td>\n",
       "    </tr>\n",
       "    <tr>\n",
       "      <th>3</th>\n",
       "      <td>2023-06-01</td>\n",
       "      <td>3</td>\n",
       "      <td>Fog</td>\n",
       "      <td>13.4</td>\n",
       "      <td>0</td>\n",
       "      <td>0</td>\n",
       "    </tr>\n",
       "    <tr>\n",
       "      <th>4</th>\n",
       "      <td>2023-06-01</td>\n",
       "      <td>4</td>\n",
       "      <td>Light rain</td>\n",
       "      <td>13.7</td>\n",
       "      <td>1</td>\n",
       "      <td>84</td>\n",
       "    </tr>\n",
       "    <tr>\n",
       "      <th>5</th>\n",
       "      <td>2023-06-01</td>\n",
       "      <td>5</td>\n",
       "      <td>Fog</td>\n",
       "      <td>13.5</td>\n",
       "      <td>1</td>\n",
       "      <td>71</td>\n",
       "    </tr>\n",
       "    <tr>\n",
       "      <th>6</th>\n",
       "      <td>2023-06-01</td>\n",
       "      <td>6</td>\n",
       "      <td>Light rain shower</td>\n",
       "      <td>13.2</td>\n",
       "      <td>1</td>\n",
       "      <td>87</td>\n",
       "    </tr>\n",
       "    <tr>\n",
       "      <th>7</th>\n",
       "      <td>2023-06-01</td>\n",
       "      <td>7</td>\n",
       "      <td>Fog</td>\n",
       "      <td>13.9</td>\n",
       "      <td>0</td>\n",
       "      <td>0</td>\n",
       "    </tr>\n",
       "    <tr>\n",
       "      <th>8</th>\n",
       "      <td>2023-06-01</td>\n",
       "      <td>8</td>\n",
       "      <td>Cloudy</td>\n",
       "      <td>15.0</td>\n",
       "      <td>0</td>\n",
       "      <td>0</td>\n",
       "    </tr>\n",
       "    <tr>\n",
       "      <th>9</th>\n",
       "      <td>2023-06-01</td>\n",
       "      <td>9</td>\n",
       "      <td>Partly cloudy</td>\n",
       "      <td>15.7</td>\n",
       "      <td>0</td>\n",
       "      <td>0</td>\n",
       "    </tr>\n",
       "    <tr>\n",
       "      <th>10</th>\n",
       "      <td>2023-06-01</td>\n",
       "      <td>10</td>\n",
       "      <td>Light rain shower</td>\n",
       "      <td>15.7</td>\n",
       "      <td>1</td>\n",
       "      <td>75</td>\n",
       "    </tr>\n",
       "    <tr>\n",
       "      <th>11</th>\n",
       "      <td>2023-06-01</td>\n",
       "      <td>11</td>\n",
       "      <td>Partly cloudy</td>\n",
       "      <td>17.3</td>\n",
       "      <td>0</td>\n",
       "      <td>0</td>\n",
       "    </tr>\n",
       "    <tr>\n",
       "      <th>12</th>\n",
       "      <td>2023-06-01</td>\n",
       "      <td>12</td>\n",
       "      <td>Light rain shower</td>\n",
       "      <td>18.6</td>\n",
       "      <td>1</td>\n",
       "      <td>78</td>\n",
       "    </tr>\n",
       "    <tr>\n",
       "      <th>13</th>\n",
       "      <td>2023-06-01</td>\n",
       "      <td>13</td>\n",
       "      <td>Light rain shower</td>\n",
       "      <td>18.3</td>\n",
       "      <td>1</td>\n",
       "      <td>87</td>\n",
       "    </tr>\n",
       "    <tr>\n",
       "      <th>14</th>\n",
       "      <td>2023-06-01</td>\n",
       "      <td>14</td>\n",
       "      <td>Light rain shower</td>\n",
       "      <td>17.8</td>\n",
       "      <td>0</td>\n",
       "      <td>66</td>\n",
       "    </tr>\n",
       "    <tr>\n",
       "      <th>15</th>\n",
       "      <td>2023-06-01</td>\n",
       "      <td>15</td>\n",
       "      <td>Mist</td>\n",
       "      <td>17.3</td>\n",
       "      <td>0</td>\n",
       "      <td>0</td>\n",
       "    </tr>\n",
       "    <tr>\n",
       "      <th>16</th>\n",
       "      <td>2023-06-01</td>\n",
       "      <td>16</td>\n",
       "      <td>Light rain shower</td>\n",
       "      <td>17.3</td>\n",
       "      <td>1</td>\n",
       "      <td>74</td>\n",
       "    </tr>\n",
       "    <tr>\n",
       "      <th>17</th>\n",
       "      <td>2023-06-01</td>\n",
       "      <td>17</td>\n",
       "      <td>Cloudy</td>\n",
       "      <td>17.0</td>\n",
       "      <td>0</td>\n",
       "      <td>0</td>\n",
       "    </tr>\n",
       "    <tr>\n",
       "      <th>18</th>\n",
       "      <td>2023-06-01</td>\n",
       "      <td>18</td>\n",
       "      <td>Light rain shower</td>\n",
       "      <td>15.8</td>\n",
       "      <td>1</td>\n",
       "      <td>74</td>\n",
       "    </tr>\n",
       "    <tr>\n",
       "      <th>19</th>\n",
       "      <td>2023-06-01</td>\n",
       "      <td>19</td>\n",
       "      <td>Fog</td>\n",
       "      <td>15.1</td>\n",
       "      <td>0</td>\n",
       "      <td>0</td>\n",
       "    </tr>\n",
       "    <tr>\n",
       "      <th>20</th>\n",
       "      <td>2023-06-01</td>\n",
       "      <td>20</td>\n",
       "      <td>Light rain shower</td>\n",
       "      <td>14.5</td>\n",
       "      <td>0</td>\n",
       "      <td>70</td>\n",
       "    </tr>\n",
       "    <tr>\n",
       "      <th>21</th>\n",
       "      <td>2023-06-01</td>\n",
       "      <td>21</td>\n",
       "      <td>Light rain shower</td>\n",
       "      <td>14.4</td>\n",
       "      <td>0</td>\n",
       "      <td>64</td>\n",
       "    </tr>\n",
       "    <tr>\n",
       "      <th>22</th>\n",
       "      <td>2023-06-01</td>\n",
       "      <td>22</td>\n",
       "      <td>Light rain shower</td>\n",
       "      <td>14.1</td>\n",
       "      <td>0</td>\n",
       "      <td>64</td>\n",
       "    </tr>\n",
       "    <tr>\n",
       "      <th>23</th>\n",
       "      <td>2023-06-01</td>\n",
       "      <td>23</td>\n",
       "      <td>Light rain shower</td>\n",
       "      <td>13.8</td>\n",
       "      <td>1</td>\n",
       "      <td>80</td>\n",
       "    </tr>\n",
       "  </tbody>\n",
       "</table>\n",
       "</div>"
      ],
      "text/plain": [
       "          Date  Hour          Condition  Temp  Rain  \"%\" of Rain\n",
       "0   2023-06-01     0  Light rain shower  13.1     0           65\n",
       "1   2023-06-01     1                Fog  13.3     0            0\n",
       "2   2023-06-01     2                Fog  13.1     1           80\n",
       "3   2023-06-01     3                Fog  13.4     0            0\n",
       "4   2023-06-01     4         Light rain  13.7     1           84\n",
       "5   2023-06-01     5                Fog  13.5     1           71\n",
       "6   2023-06-01     6  Light rain shower  13.2     1           87\n",
       "7   2023-06-01     7                Fog  13.9     0            0\n",
       "8   2023-06-01     8             Cloudy  15.0     0            0\n",
       "9   2023-06-01     9      Partly cloudy  15.7     0            0\n",
       "10  2023-06-01    10  Light rain shower  15.7     1           75\n",
       "11  2023-06-01    11      Partly cloudy  17.3     0            0\n",
       "12  2023-06-01    12  Light rain shower  18.6     1           78\n",
       "13  2023-06-01    13  Light rain shower  18.3     1           87\n",
       "14  2023-06-01    14  Light rain shower  17.8     0           66\n",
       "15  2023-06-01    15               Mist  17.3     0            0\n",
       "16  2023-06-01    16  Light rain shower  17.3     1           74\n",
       "17  2023-06-01    17             Cloudy  17.0     0            0\n",
       "18  2023-06-01    18  Light rain shower  15.8     1           74\n",
       "19  2023-06-01    19                Fog  15.1     0            0\n",
       "20  2023-06-01    20  Light rain shower  14.5     0           70\n",
       "21  2023-06-01    21  Light rain shower  14.4     0           64\n",
       "22  2023-06-01    22  Light rain shower  14.1     0           64\n",
       "23  2023-06-01    23  Light rain shower  13.8     1           80"
      ]
     },
     "execution_count": 43,
     "metadata": {},
     "output_type": "execute_result"
    }
   ],
   "source": [
    "col = ['Date', 'Hour', 'Condition', 'Temp', 'Rain', '\"%\" of Rain']\n",
    "weather_df = pd.DataFrame(weather_data, columns=col)\n",
    "weather_df\n"
   ]
  },
  {
   "cell_type": "code",
   "execution_count": 44,
   "metadata": {},
   "outputs": [
    {
     "data": {
      "text/html": [
       "<div>\n",
       "<style scoped>\n",
       "    .dataframe tbody tr th:only-of-type {\n",
       "        vertical-align: middle;\n",
       "    }\n",
       "\n",
       "    .dataframe tbody tr th {\n",
       "        vertical-align: top;\n",
       "    }\n",
       "\n",
       "    .dataframe thead th {\n",
       "        text-align: right;\n",
       "    }\n",
       "</style>\n",
       "<table border=\"1\" class=\"dataframe\">\n",
       "  <thead>\n",
       "    <tr style=\"text-align: right;\">\n",
       "      <th></th>\n",
       "      <th>Condition</th>\n",
       "    </tr>\n",
       "    <tr>\n",
       "      <th>Hour</th>\n",
       "      <th></th>\n",
       "    </tr>\n",
       "  </thead>\n",
       "  <tbody>\n",
       "    <tr>\n",
       "      <th>6</th>\n",
       "      <td>Light rain shower</td>\n",
       "    </tr>\n",
       "    <tr>\n",
       "      <th>10</th>\n",
       "      <td>Light rain shower</td>\n",
       "    </tr>\n",
       "    <tr>\n",
       "      <th>12</th>\n",
       "      <td>Light rain shower</td>\n",
       "    </tr>\n",
       "    <tr>\n",
       "      <th>13</th>\n",
       "      <td>Light rain shower</td>\n",
       "    </tr>\n",
       "    <tr>\n",
       "      <th>16</th>\n",
       "      <td>Light rain shower</td>\n",
       "    </tr>\n",
       "    <tr>\n",
       "      <th>18</th>\n",
       "      <td>Light rain shower</td>\n",
       "    </tr>\n",
       "  </tbody>\n",
       "</table>\n",
       "</div>"
      ],
      "text/plain": [
       "              Condition\n",
       "Hour                   \n",
       "6     Light rain shower\n",
       "10    Light rain shower\n",
       "12    Light rain shower\n",
       "13    Light rain shower\n",
       "16    Light rain shower\n",
       "18    Light rain shower"
      ]
     },
     "execution_count": 44,
     "metadata": {},
     "output_type": "execute_result"
    }
   ],
   "source": [
    "rain_df = weather_df[(weather_df[\"Rain\"]==1) & (weather_df[\"Hour\"]<22) & (weather_df[\"Hour\"]>5)]\n",
    "rain_df = rain_df[['Hour','Condition']]\n",
    "rain_df.set_index('Hour', inplace=True)\n",
    "rain_df"
   ]
  },
  {
   "cell_type": "code",
   "execution_count": 45,
   "metadata": {},
   "outputs": [
    {
     "data": {
      "text/plain": [
       "'\\n Hellow! \\n\\n\\n The weather forecast for 2023-06-01 in Medellín: \\n\\n\\n               Condition\\nHour                   \\n6     Light rain shower\\n10    Light rain shower\\n12    Light rain shower\\n13    Light rain shower\\n16    Light rain shower\\n18    Light rain shower'"
      ]
     },
     "execution_count": 45,
     "metadata": {},
     "output_type": "execute_result"
    }
   ],
   "source": [
    "weather_message = f'\\n Hellow! \\n\\n\\n The weather forecast for {weather_df[\"Date\"][1]} in Medellín: \\n\\n\\n {rain_df}'\n",
    "weather_message"
   ]
  },
  {
   "cell_type": "code",
   "execution_count": 46,
   "metadata": {},
   "outputs": [
    {
     "data": {
      "text/plain": [
       "'+1 361 310 4693'"
      ]
     },
     "execution_count": 46,
     "metadata": {},
     "output_type": "execute_result"
    }
   ],
   "source": [
    "PHONE_NUMBER"
   ]
  },
  {
   "cell_type": "code",
   "execution_count": 47,
   "metadata": {},
   "outputs": [
    {
     "name": "stdout",
     "output_type": "stream",
     "text": [
      "Mensaje enviado SM861ed403cdee0dcf32037bc2936d70b3\n"
     ]
    }
   ],
   "source": [
    "account_sid = TWILIO_ACCOUNT_SID\n",
    "auth_token = TWILIO_AUTH_TOKEN\n",
    "client = Client(account_sid, auth_token)\n",
    "\n",
    "message = client.messages \\\n",
    "    .create(\n",
    "         body=weather_message,\n",
    "         from_=PHONE_NUMBER,\n",
    "         to='+573145103005'\n",
    "     )\n",
    "\n",
    "print('Mensaje enviado', message.sid)"
   ]
  },
  {
   "cell_type": "code",
   "execution_count": 49,
   "metadata": {},
   "outputs": [
    {
     "data": {
      "text/plain": [
       "'queued'"
      ]
     },
     "execution_count": 49,
     "metadata": {},
     "output_type": "execute_result"
    }
   ],
   "source": [
    "message.status"
   ]
  }
 ],
 "metadata": {
  "kernelspec": {
   "display_name": "env",
   "language": "python",
   "name": "python3"
  },
  "language_info": {
   "codemirror_mode": {
    "name": "ipython",
    "version": 3
   },
   "file_extension": ".py",
   "mimetype": "text/x-python",
   "name": "python",
   "nbconvert_exporter": "python",
   "pygments_lexer": "ipython3",
   "version": "3.10.6"
  },
  "orig_nbformat": 4
 },
 "nbformat": 4,
 "nbformat_minor": 2
}
